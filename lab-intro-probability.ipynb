{
 "cells": [
  {
   "cell_type": "markdown",
   "metadata": {},
   "source": [
    "# Lab | Intro to Probability"
   ]
  },
  {
   "cell_type": "markdown",
   "metadata": {},
   "source": [
    "**Objective**\n",
    "\n",
    "Welcome to this Intro to Probability lab, where we explore decision-making scenarios through the lens of probability and strategic analysis. In the business world, making informed decisions is crucial, especially when faced with uncertainties. This lab focuses on scenarios where probabilistic outcomes play a significant role in shaping strategies and outcomes. Students will engage in exercises that require assessing and choosing optimal paths based on data-driven insights. The goal is to enhance your skills by applying probability concepts to solve real-world problems."
   ]
  },
  {
   "cell_type": "markdown",
   "metadata": {},
   "source": [
    "**Challenge 1**"
   ]
  },
  {
   "cell_type": "markdown",
   "metadata": {},
   "source": [
    "#### Ironhack Airlines \n",
    "\n",
    "Often Airlines sell more tickets than they have seats available, this is called overbooking. Consider the following:\n",
    "- A plane has 450 seats. \n",
    "- Based on historical data we conclude that each individual passenger has a 3% chance of missing it's flight. \n",
    "\n",
    "If the Ironhack Airlines routinely sells 460 tickets, what is the chance that they have a seats for all passenger?"
   ]
  },
  {
   "cell_type": "code",
   "execution_count": 1,
   "metadata": {},
   "outputs": [
    {
     "name": "stdout",
     "output_type": "stream",
     "text": [
      "Probability that 450 or fewer passengers show up: 0.8845\n"
     ]
    }
   ],
   "source": [
    "from scipy.stats import binom\n",
    "\n",
    "# Parameters\n",
    "n = 460  # Total tickets sold\n",
    "p = 0.97  # Probability of showing up\n",
    "k = 450  # Maximum number of passengers who can show up\n",
    "\n",
    "# Calculate P(X <= 450)\n",
    "probability = binom.cdf(k, n, p)\n",
    "\n",
    "print(f\"Probability that 450 or fewer passengers show up: {probability:.4f}\")"
   ]
  },
  {
   "cell_type": "markdown",
   "metadata": {},
   "source": [
    "**Challenge 2**"
   ]
  },
  {
   "cell_type": "markdown",
   "metadata": {},
   "source": [
    "#### Ironhack Call Center "
   ]
  },
  {
   "cell_type": "markdown",
   "metadata": {},
   "source": [
    "Suppose a customer service representative at a call center is handling customer complaints. Consider the following:\n",
    "- The probability of successfully resolving a customer complaint on the first attempt is 0.3. \n",
    "\n",
    "\n",
    "What is the probability that the representative needs to make at least three attempts before successfully resolving a customer complaint?"
   ]
  },
  {
   "cell_type": "code",
   "execution_count": 2,
   "metadata": {},
   "outputs": [
    {
     "name": "stdout",
     "output_type": "stream",
     "text": [
      "Probability of needing at least 3 attempts: 0.4900\n"
     ]
    }
   ],
   "source": [
    "# Parameters\n",
    "p = 0.3  # Probability of success on each attempt\n",
    "\n",
    "# Calculate probabilities\n",
    "P_X_1 = p\n",
    "P_X_2 = (1 - p) * p\n",
    "\n",
    "# Probability of at least 3 attempts\n",
    "P_X_ge_3 = 1 - (P_X_1 + P_X_2)\n",
    "\n",
    "print(f\"Probability of needing at least 3 attempts: {P_X_ge_3:.4f}\")"
   ]
  },
  {
   "cell_type": "markdown",
   "metadata": {},
   "source": [
    "**Challenge 3**"
   ]
  },
  {
   "cell_type": "markdown",
   "metadata": {},
   "source": [
    "#### Ironhack Website"
   ]
  },
  {
   "cell_type": "markdown",
   "metadata": {},
   "source": [
    "Consider a scenario related to Ironhack website traffic. Where:\n",
    "- our website takes on average 500 visits per hour.\n",
    "- the website's server is designed to handle up to 550 vists per hour.\n",
    "\n",
    "\n",
    "What is the probability of the website server being overwhelmed?"
   ]
  },
  {
   "cell_type": "code",
   "execution_count": 3,
   "metadata": {},
   "outputs": [
    {
     "name": "stdout",
     "output_type": "stream",
     "text": [
      "Probability that the server is overwhelmed: 0.4001\n"
     ]
    }
   ],
   "source": [
    "from scipy.stats import poisson\n",
    "\n",
    "# Parameters\n",
    "lambda_rate = 500  # Average visits per hour\n",
    "threshold = 505     # Server capacity\n",
    "\n",
    "# Calculate P(X > 505)\n",
    "P_X_gt_505 = 1 - poisson.cdf(threshold, lambda_rate)\n",
    "\n",
    "print(f\"Probability that the server is overwhelmed: {P_X_gt_505:.4f}\")"
   ]
  },
  {
   "cell_type": "markdown",
   "metadata": {},
   "source": [
    "What is the probability of being overwhelmed at some point during a day? (consider 24hours)"
   ]
  },
  {
   "cell_type": "code",
   "execution_count": 4,
   "metadata": {},
   "outputs": [
    {
     "name": "stdout",
     "output_type": "stream",
     "text": [
      "Probability of being overwhelmed at least once in 24 hours: 1.0000\n"
     ]
    }
   ],
   "source": [
    "# Parameters\n",
    "lambda_rate = 500  # Average visits per hour\n",
    "threshold = 505     # Server capacity\n",
    "\n",
    "# Probability of being overwhelmed in 1 hour\n",
    "P_hour = 1 - poisson.cdf(threshold, lambda_rate)\n",
    "\n",
    "# Probability of being overwhelmed at least once in 24 hours\n",
    "P_day = 1 - (1 - P_hour) ** 24\n",
    "\n",
    "print(f\"Probability of being overwhelmed at least once in 24 hours: {P_day:.4f}\")"
   ]
  },
  {
   "cell_type": "markdown",
   "metadata": {},
   "source": [
    "**Challenge 4**"
   ]
  },
  {
   "cell_type": "markdown",
   "metadata": {},
   "source": [
    "#### Ironhack Helpdesk"
   ]
  },
  {
   "cell_type": "markdown",
   "metadata": {},
   "source": [
    "Consider a scenario related to the time between arrivals of customers at a service desk.\n",
    "\n",
    "On average, a customers arrives every 10minutes.\n",
    "\n",
    "What is the probability that the next customer will arrive within the next 5 minutes?"
   ]
  },
  {
   "cell_type": "code",
   "execution_count": 5,
   "metadata": {},
   "outputs": [
    {
     "name": "stdout",
     "output_type": "stream",
     "text": [
      "Probability of next customer arriving within 5 minutes (formula): 0.3935\n",
      "Probability of next customer arriving within 5 minutes (scipy): 0.3935\n"
     ]
    }
   ],
   "source": [
    "import math\n",
    "from scipy.stats import expon\n",
    "\n",
    "# Parameters\n",
    "lambda_rate = 1 / 10  # Average arrival rate (1 event per 10 minutes)\n",
    "time = 5              # Time window (5 minutes)\n",
    "\n",
    "# Calculate probability using the formula\n",
    "P_within_5 = 1 - math.exp(-lambda_rate * time)\n",
    "\n",
    "# Alternatively, using scipy.stats.expon\n",
    "P_within_5_scipy = expon.cdf(time, scale=1 / lambda_rate)\n",
    "\n",
    "print(f\"Probability of next customer arriving within 5 minutes (formula): {P_within_5:.4f}\")\n",
    "print(f\"Probability of next customer arriving within 5 minutes (scipy): {P_within_5_scipy:.4f}\")"
   ]
  },
  {
   "cell_type": "markdown",
   "metadata": {},
   "source": [
    "If there is no customer for 15minutes, employees can that a 5minutes break.\n",
    "\n",
    "What is the probability an employee taking a break?"
   ]
  },
  {
   "cell_type": "code",
   "execution_count": 6,
   "metadata": {},
   "outputs": [
    {
     "name": "stdout",
     "output_type": "stream",
     "text": [
      "Probability of no customer for 15 minutes (formula): 0.2231\n",
      "Probability of no customer for 15 minutes (scipy): 0.2231\n"
     ]
    }
   ],
   "source": [
    "# Parameters\n",
    "lambda_rate = 1 / 10  # Average arrival rate (1 customer every 10 minutes)\n",
    "time_no_customer = 15  # Time window (15 minutes)\n",
    "\n",
    "# Using the exponential distribution formula\n",
    "P_no_customer_15 = math.exp(-lambda_rate * time_no_customer)\n",
    "\n",
    "# Alternatively, using scipy.stats.expon\n",
    "P_no_customer_15_scipy = 1 - expon.cdf(time_no_customer, scale=1 / lambda_rate)\n",
    "\n",
    "print(f\"Probability of no customer for 15 minutes (formula): {P_no_customer_15:.4f}\")\n",
    "print(f\"Probability of no customer for 15 minutes (scipy): {P_no_customer_15_scipy:.4f}\")"
   ]
  },
  {
   "cell_type": "markdown",
   "metadata": {},
   "source": [
    "**Challenge 5**"
   ]
  },
  {
   "cell_type": "markdown",
   "metadata": {},
   "source": [
    "The weights of a certain species of birds follow a normal distribution with a mean weight of 150 grams and a standard deviation of 10 grams. \n",
    "\n",
    "- If we randomly select a bird, what is the probability that its weight is between 140 and 160 grams?"
   ]
  },
  {
   "cell_type": "code",
   "execution_count": 8,
   "metadata": {},
   "outputs": [
    {
     "name": "stdout",
     "output_type": "stream",
     "text": [
      "Probability that the bird's weight is between 140g and 160g: 0.6827\n"
     ]
    }
   ],
   "source": [
    "from scipy.stats import norm\n",
    "\n",
    "# Parameters\n",
    "mu = 150  # Mean weight\n",
    "sigma = 10  # Standard deviation\n",
    "lower = 140  # Lower bound\n",
    "upper = 160  # Upper bound\n",
    "\n",
    "# Calculate probabilities using CDF\n",
    "P_lower = norm.cdf(lower, loc=mu, scale=sigma)  # P(X <= 140)\n",
    "P_upper = norm.cdf(upper, loc=mu, scale=sigma)  # P(X <= 160)\n",
    "\n",
    "# Probability between 140 and 160\n",
    "P_between = P_upper - P_lower\n",
    "\n",
    "print(f\"Probability that the bird's weight is between 140g and 160g: {P_between:.4f}\")"
   ]
  },
  {
   "cell_type": "markdown",
   "metadata": {},
   "source": [
    "**Challenge 6**"
   ]
  },
  {
   "cell_type": "markdown",
   "metadata": {},
   "source": [
    "If the lifetime (in hours) of a certain electronic component follows an exponential distribution with a mean lifetime of 50 hours, what is the probability that the component fails within the first 30 hours?"
   ]
  },
  {
   "cell_type": "code",
   "execution_count": 9,
   "metadata": {},
   "outputs": [
    {
     "name": "stdout",
     "output_type": "stream",
     "text": [
      "Probability of failure within 30 hours (formula): 0.4512\n",
      "Probability of failure within 30 hours (scipy): 0.4512\n"
     ]
    }
   ],
   "source": [
    "# Parameters\n",
    "mean_lifetime = 50  # Mean lifetime in hours\n",
    "rate = 1 / mean_lifetime  # Rate parameter (lambda)\n",
    "time = 30  # Time window (30 hours)\n",
    "\n",
    "# Calculate probability using the exponential distribution formula\n",
    "P_fail_30_formula = 1 - math.exp(-rate * time)\n",
    "\n",
    "# Alternatively, using scipy.stats.expon\n",
    "P_fail_30_scipy = expon.cdf(time, scale=1 / rate)\n",
    "\n",
    "print(f\"Probability of failure within 30 hours (formula): {P_fail_30_formula:.4f}\")\n",
    "print(f\"Probability of failure within 30 hours (scipy): {P_fail_30_scipy:.4f}\")"
   ]
  }
 ],
 "metadata": {
  "kernelspec": {
   "display_name": "Python 3",
   "language": "python",
   "name": "python3"
  },
  "language_info": {
   "codemirror_mode": {
    "name": "ipython",
    "version": 3
   },
   "file_extension": ".py",
   "mimetype": "text/x-python",
   "name": "python",
   "nbconvert_exporter": "python",
   "pygments_lexer": "ipython3",
   "version": "3.13.0"
  }
 },
 "nbformat": 4,
 "nbformat_minor": 2
}
